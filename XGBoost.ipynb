{
 "cells": [
  {
   "cell_type": "code",
   "execution_count": 11,
   "metadata": {},
   "outputs": [],
   "source": [
    "import numpy as np\n",
    "import pandas as pd\n",
    "df=pd.read_csv('ibm_stock.csv')\n",
    "df.drop(['High', 'Low','Volume','Open','Adj Close'], axis=1, inplace=True)"
   ]
  },
  {
   "cell_type": "code",
   "execution_count": 12,
   "metadata": {},
   "outputs": [],
   "source": [
    "#Converting Date into timestamp \n",
    "from datetime import datetime\n",
    "a=[]\n",
    "for i in range(0,754):\n",
    "    x=df['Date'][i]\n",
    "    datetime_obj=datetime.strptime(x,'%Y-%m-%d')\n",
    "    a.append(datetime.timestamp(datetime_obj))"
   ]
  },
  {
   "cell_type": "code",
   "execution_count": 13,
   "metadata": {},
   "outputs": [
    {
     "data": {
      "text/html": [
       "<div>\n",
       "<style scoped>\n",
       "    .dataframe tbody tr th:only-of-type {\n",
       "        vertical-align: middle;\n",
       "    }\n",
       "\n",
       "    .dataframe tbody tr th {\n",
       "        vertical-align: top;\n",
       "    }\n",
       "\n",
       "    .dataframe thead th {\n",
       "        text-align: right;\n",
       "    }\n",
       "</style>\n",
       "<table border=\"1\" class=\"dataframe\">\n",
       "  <thead>\n",
       "    <tr style=\"text-align: right;\">\n",
       "      <th></th>\n",
       "      <th>Date</th>\n",
       "      <th>Close</th>\n",
       "    </tr>\n",
       "  </thead>\n",
       "  <tbody>\n",
       "    <tr>\n",
       "      <th>0</th>\n",
       "      <td>1.483382e+09</td>\n",
       "      <td>167.190002</td>\n",
       "    </tr>\n",
       "    <tr>\n",
       "      <th>1</th>\n",
       "      <td>1.483468e+09</td>\n",
       "      <td>169.259995</td>\n",
       "    </tr>\n",
       "    <tr>\n",
       "      <th>2</th>\n",
       "      <td>1.483555e+09</td>\n",
       "      <td>168.699997</td>\n",
       "    </tr>\n",
       "    <tr>\n",
       "      <th>3</th>\n",
       "      <td>1.483641e+09</td>\n",
       "      <td>169.529999</td>\n",
       "    </tr>\n",
       "    <tr>\n",
       "      <th>4</th>\n",
       "      <td>1.483900e+09</td>\n",
       "      <td>167.649994</td>\n",
       "    </tr>\n",
       "  </tbody>\n",
       "</table>\n",
       "</div>"
      ],
      "text/plain": [
       "           Date       Close\n",
       "0  1.483382e+09  167.190002\n",
       "1  1.483468e+09  169.259995\n",
       "2  1.483555e+09  168.699997\n",
       "3  1.483641e+09  169.529999\n",
       "4  1.483900e+09  167.649994"
      ]
     },
     "execution_count": 13,
     "metadata": {},
     "output_type": "execute_result"
    }
   ],
   "source": [
    "df['Date']=a\n",
    "df.head()"
   ]
  },
  {
   "cell_type": "code",
   "execution_count": 14,
   "metadata": {},
   "outputs": [],
   "source": [
    "#Creating training and testing dataset\n",
    "from sklearn.model_selection import train_test_split\n",
    "train,test = train_test_split(df, test_size = 0.2,random_state=2)\n",
    "\n",
    "x_train = train.drop('Close', axis=1)\n",
    "y_train = train['Close']\n",
    "\n",
    "x_test = test.drop('Close', axis = 1)\n",
    "y_test = test['Close']"
   ]
  },
  {
   "cell_type": "code",
   "execution_count": 15,
   "metadata": {},
   "outputs": [],
   "source": [
    "x_tr=x_train\n",
    "y_tr=y_train\n",
    "x_ts=x_test\n",
    "y_ts=y_test"
   ]
  },
  {
   "cell_type": "code",
   "execution_count": 16,
   "metadata": {},
   "outputs": [],
   "source": [
    "#Scaling data\n",
    "from sklearn.preprocessing import MinMaxScaler\n",
    "scaler = MinMaxScaler(feature_range=(0, 1))\n",
    "\n",
    "x_train_scaled = scaler.fit_transform(x_train)\n",
    "x_train = pd.DataFrame(x_train_scaled)\n",
    "\n",
    "x_test_scaled = scaler.fit_transform(x_test)\n",
    "x_test = pd.DataFrame(x_test_scaled)"
   ]
  },
  {
   "cell_type": "code",
   "execution_count": 17,
   "metadata": {},
   "outputs": [],
   "source": [
    "#importing packages for XGBoost\n",
    "from numpy import loadtxt\n",
    "from xgboost import XGBClassifier\n",
    "from sklearn.model_selection import train_test_split\n",
    "from sklearn.metrics import accuracy_score\n"
   ]
  },
  {
   "cell_type": "code",
   "execution_count": 18,
   "metadata": {},
   "outputs": [
    {
     "data": {
      "text/plain": [
       "XGBClassifier(base_score=0.5, booster=None, colsample_bylevel=1,\n",
       "       colsample_bynode=1, colsample_bytree=1, gamma=0, gpu_id=-1,\n",
       "       importance_type='gain', interaction_constraints=None,\n",
       "       learning_rate=0.300000012, max_delta_step=0, max_depth=6,\n",
       "       min_child_weight=1, missing=nan, monotone_constraints=None,\n",
       "       n_estimators=100, n_jobs=0, num_parallel_tree=1,\n",
       "       objective='multi:softprob', random_state=0, reg_alpha=0,\n",
       "       reg_lambda=1, scale_pos_weight=None, subsample=1, tree_method=None,\n",
       "       validate_parameters=False, verbosity=None)"
      ]
     },
     "execution_count": 18,
     "metadata": {},
     "output_type": "execute_result"
    }
   ],
   "source": [
    "# fit model no training data\n",
    "model = XGBClassifier()\n",
    "model.fit(x_train, y_train)"
   ]
  },
  {
   "cell_type": "code",
   "execution_count": 20,
   "metadata": {},
   "outputs": [
    {
     "name": "stderr",
     "output_type": "stream",
     "text": [
      "C:\\Users\\Aniket\\Anaconda3\\lib\\site-packages\\sklearn\\preprocessing\\label.py:151: DeprecationWarning: The truth value of an empty array is ambiguous. Returning False, but in future this will result in an error. Use `array.size > 0` to check that an array is not empty.\n",
      "  if diff:\n"
     ]
    },
    {
     "data": {
      "text/plain": [
       "array([142.47999573, 138.52000427, 141.13000488, 139.19999695,\n",
       "       153.67999268, 145.99000549, 120.38999939, 143.22000122,\n",
       "       135.55000305, 160.91000366, 134.38000488, 150.83999634,\n",
       "       162.49000549, 143.91000366, 133.30999756, 135.08999634,\n",
       "       160.8999939 , 139.11000061, 141.83999634, 135.08999634,\n",
       "       153.96000671, 156.00999451, 153.5       , 174.52000427,\n",
       "       145.99000549, 153.67999268, 135.19000244, 151.5       ,\n",
       "       145.99000549, 141.42999268, 135.97000122, 143.74000549,\n",
       "       139.19999695, 174.52000427, 143.63999939, 135.97000122,\n",
       "       151.3500061 , 135.52999878, 153.67999268, 174.52000427,\n",
       "       135.52999878, 145.99000549, 153.67999268, 146.49000549,\n",
       "       161.69999695, 135.52999878, 146.47999573, 153.67999268,\n",
       "       138.        , 143.8999939 , 166.80000305, 135.52999878,\n",
       "       135.55000305, 118.15000153, 135.52999878, 119.33999634,\n",
       "       146.72000122, 153.80999756, 153.67999268, 142.11000061,\n",
       "       174.52000427, 147.02999878, 153.80999756, 136.32000732,\n",
       "       153.67999268, 154.80999756, 141.94999695, 141.22000122,\n",
       "       143.8999939 , 153.97000122, 145.86000061, 138.52000427,\n",
       "       134.1000061 , 139.19999695, 154.36000061, 133.30999756,\n",
       "       138.02999878, 147.02999878, 142.11000061, 139.11000061,\n",
       "       138.        , 117.19000244, 136.32000732, 117.31999969,\n",
       "       135.97000122, 169.52999878, 117.19000244, 149.50999451,\n",
       "       134.05000305, 145.67999268, 162.36999512, 138.        ,\n",
       "       123.81999969, 138.        , 120.83999634, 141.13000488,\n",
       "       138.        , 146.72000122, 145.69999695, 135.97000122,\n",
       "       123.81999969, 144.13999939, 138.        , 144.66999817,\n",
       "       135.32000732, 137.52000427, 145.33999634, 138.52000427,\n",
       "       153.67999268, 140.33000183, 150.30000305, 153.80999756,\n",
       "       144.66999817, 116.83000183, 143.36000061, 123.91000366,\n",
       "       145.69999695, 134.38000488, 135.97000122, 139.11000061,\n",
       "       144.38999939, 145.46000671, 121.56999969, 141.83999634,\n",
       "       117.19000244, 138.52000427, 149.50999451, 154.36000061,\n",
       "       142.11000061, 139.11000061, 120.19999695, 156.21000671,\n",
       "       158.07000732, 142.47999573, 135.55000305, 145.8999939 ,\n",
       "       129.1000061 , 134.05000305, 145.08999634, 135.52999878,\n",
       "       169.11999512, 138.        , 144.66999817, 163.83000183,\n",
       "       153.67999268, 174.52000427, 146.66000366, 138.52000427,\n",
       "       160.8999939 , 146.66000366, 140.33000183])"
      ]
     },
     "execution_count": 20,
     "metadata": {},
     "output_type": "execute_result"
    }
   ],
   "source": [
    "# make predictions for test data\n",
    "y_pred = model.predict(x_test)\n",
    "y_pred"
   ]
  },
  {
   "cell_type": "code",
   "execution_count": 21,
   "metadata": {},
   "outputs": [
    {
     "data": {
      "text/html": [
       "<div>\n",
       "<style scoped>\n",
       "    .dataframe tbody tr th:only-of-type {\n",
       "        vertical-align: middle;\n",
       "    }\n",
       "\n",
       "    .dataframe tbody tr th {\n",
       "        vertical-align: top;\n",
       "    }\n",
       "\n",
       "    .dataframe thead th {\n",
       "        text-align: right;\n",
       "    }\n",
       "</style>\n",
       "<table border=\"1\" class=\"dataframe\">\n",
       "  <thead>\n",
       "    <tr style=\"text-align: right;\">\n",
       "      <th></th>\n",
       "      <th>Actual</th>\n",
       "      <th>Predicted</th>\n",
       "      <th>Date</th>\n",
       "    </tr>\n",
       "  </thead>\n",
       "  <tbody>\n",
       "    <tr>\n",
       "      <th>1</th>\n",
       "      <td>169.259995</td>\n",
       "      <td>169.529999</td>\n",
       "      <td>1.483468e+09</td>\n",
       "    </tr>\n",
       "    <tr>\n",
       "      <th>15</th>\n",
       "      <td>178.289993</td>\n",
       "      <td>174.520004</td>\n",
       "      <td>1.485283e+09</td>\n",
       "    </tr>\n",
       "    <tr>\n",
       "      <th>18</th>\n",
       "      <td>175.800003</td>\n",
       "      <td>174.520004</td>\n",
       "      <td>1.485715e+09</td>\n",
       "    </tr>\n",
       "    <tr>\n",
       "      <th>20</th>\n",
       "      <td>174.289993</td>\n",
       "      <td>174.520004</td>\n",
       "      <td>1.485887e+09</td>\n",
       "    </tr>\n",
       "    <tr>\n",
       "      <th>22</th>\n",
       "      <td>175.820007</td>\n",
       "      <td>166.800003</td>\n",
       "      <td>1.486060e+09</td>\n",
       "    </tr>\n",
       "  </tbody>\n",
       "</table>\n",
       "</div>"
      ],
      "text/plain": [
       "        Actual   Predicted          Date\n",
       "1   169.259995  169.529999  1.483468e+09\n",
       "15  178.289993  174.520004  1.485283e+09\n",
       "18  175.800003  174.520004  1.485715e+09\n",
       "20  174.289993  174.520004  1.485887e+09\n",
       "22  175.820007  166.800003  1.486060e+09"
      ]
     },
     "execution_count": 21,
     "metadata": {},
     "output_type": "execute_result"
    }
   ],
   "source": [
    "dp=pd.DataFrame({'Actual':y_test,'Predicted':y_pred})\n",
    "dp['Date']=x_ts\n",
    "sort_by_time = dp.sort_values('Date')\n",
    "sort_by_time.head()"
   ]
  },
  {
   "cell_type": "code",
   "execution_count": 23,
   "metadata": {},
   "outputs": [
    {
     "data": {
      "text/plain": [
       "[<matplotlib.lines.Line2D at 0x23d13b7ff28>]"
      ]
     },
     "execution_count": 23,
     "metadata": {},
     "output_type": "execute_result"
    },
    {
     "data": {
      "image/png": "[encoded data removed]",
      "text/plain": [
       "<Figure size 432x288 with 1 Axes>"
      ]
     },
     "metadata": {},
     "output_type": "display_data"
    }
   ],
   "source": [
    "#plotting the y_test and y_pred\n",
    "import matplotlib.pyplot as plt\n",
    "plt.plot(sort_by_time['Date'],dp['Actual'])\n",
    "plt.plot(sort_by_time['Date'],dp['Predicted'])"
   ]
  },
  {
   "cell_type": "code",
   "execution_count": 25,
   "metadata": {},
   "outputs": [],
   "source": [
    "#MAPE\n",
    "def get_mape(y_true, y_pred): \n",
    "    \"\"\"\n",
    "    Compute mean absolute percentage error (MAPE)\n",
    "    \"\"\"\n",
    "    y_true, y_pred = np.array(y_true), np.array(y_pred)\n",
    "    return np.mean(np.abs((y_true - y_pred) / y_true)) * 100"
   ]
  },
  {
   "cell_type": "code",
   "execution_count": 26,
   "metadata": {},
   "outputs": [
    {
     "data": {
      "text/plain": [
       "3.4955100607766827"
      ]
     },
     "execution_count": 26,
     "metadata": {},
     "output_type": "execute_result"
    }
   ],
   "source": [
    "get_mape(sort_by_time['Actual'],sort_by_time['Predicted'])"
   ]
  },
  {
   "cell_type": "code",
   "execution_count": 27,
   "metadata": {},
   "outputs": [
    {
     "data": {
      "text/plain": [
       "7.211677235670719"
      ]
     },
     "execution_count": 27,
     "metadata": {},
     "output_type": "execute_result"
    }
   ],
   "source": [
    "from statsmodels.tools.eval_measures import rmse\n",
    "rmse(sort_by_time['Actual'],sort_by_time['Predicted'])"
   ]
  },
  {
   "cell_type": "code",
   "execution_count": null,
   "metadata": {},
   "outputs": [],
   "source": []
  }
 ],
 "metadata": {
  "kernelspec": {
   "display_name": "Python 3",
   "language": "python",
   "name": "python3"
  },
  "language_info": {
   "codemirror_mode": {
    "name": "ipython",
    "version": 3
   },
   "file_extension": ".py",
   "mimetype": "text/x-python",
   "name": "python",
   "nbconvert_exporter": "python",
   "pygments_lexer": "ipython3",
   "version": "3.6.5"
  }
 },
 "nbformat": 4,
 "nbformat_minor": 2
}
